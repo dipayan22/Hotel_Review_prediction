{
 "cells": [
  {
   "cell_type": "code",
   "execution_count": 1,
   "id": "23f97721",
   "metadata": {},
   "outputs": [],
   "source": [
    "import pandas as pd\n",
    "import numpy as np\n",
    "import matplotlib.pyplot as plt\n",
    "import seaborn as sns"
   ]
  },
  {
   "cell_type": "code",
   "execution_count": 23,
   "id": "5d70a3ae",
   "metadata": {},
   "outputs": [],
   "source": [
    "df=pd.read_csv('train.csv')"
   ]
  },
  {
   "cell_type": "code",
   "execution_count": 3,
   "id": "4f3afeef",
   "metadata": {
    "scrolled": true
   },
   "outputs": [
    {
     "data": {
      "text/html": [
       "<div>\n",
       "<style scoped>\n",
       "    .dataframe tbody tr th:only-of-type {\n",
       "        vertical-align: middle;\n",
       "    }\n",
       "\n",
       "    .dataframe tbody tr th {\n",
       "        vertical-align: top;\n",
       "    }\n",
       "\n",
       "    .dataframe thead th {\n",
       "        text-align: right;\n",
       "    }\n",
       "</style>\n",
       "<table border=\"1\" class=\"dataframe\">\n",
       "  <thead>\n",
       "    <tr style=\"text-align: right;\">\n",
       "      <th></th>\n",
       "      <th>User_ID</th>\n",
       "      <th>Description</th>\n",
       "      <th>Browser_Used</th>\n",
       "      <th>Device_Used</th>\n",
       "      <th>Is_Response</th>\n",
       "    </tr>\n",
       "  </thead>\n",
       "  <tbody>\n",
       "    <tr>\n",
       "      <th>0</th>\n",
       "      <td>id10326</td>\n",
       "      <td>The room was kind of clean but had a VERY stro...</td>\n",
       "      <td>Edge</td>\n",
       "      <td>Mobile</td>\n",
       "      <td>not happy</td>\n",
       "    </tr>\n",
       "    <tr>\n",
       "      <th>1</th>\n",
       "      <td>id10327</td>\n",
       "      <td>I stayed at the Crown Plaza April -- - April -...</td>\n",
       "      <td>Internet Explorer</td>\n",
       "      <td>Mobile</td>\n",
       "      <td>not happy</td>\n",
       "    </tr>\n",
       "    <tr>\n",
       "      <th>2</th>\n",
       "      <td>id10328</td>\n",
       "      <td>I booked this hotel through Hotwire at the low...</td>\n",
       "      <td>Mozilla</td>\n",
       "      <td>Tablet</td>\n",
       "      <td>not happy</td>\n",
       "    </tr>\n",
       "    <tr>\n",
       "      <th>3</th>\n",
       "      <td>id10329</td>\n",
       "      <td>Stayed here with husband and sons on the way t...</td>\n",
       "      <td>InternetExplorer</td>\n",
       "      <td>Desktop</td>\n",
       "      <td>happy</td>\n",
       "    </tr>\n",
       "    <tr>\n",
       "      <th>4</th>\n",
       "      <td>id10330</td>\n",
       "      <td>My girlfriends and I stayed here to celebrate ...</td>\n",
       "      <td>Edge</td>\n",
       "      <td>Tablet</td>\n",
       "      <td>not happy</td>\n",
       "    </tr>\n",
       "  </tbody>\n",
       "</table>\n",
       "</div>"
      ],
      "text/plain": [
       "   User_ID                                        Description  \\\n",
       "0  id10326  The room was kind of clean but had a VERY stro...   \n",
       "1  id10327  I stayed at the Crown Plaza April -- - April -...   \n",
       "2  id10328  I booked this hotel through Hotwire at the low...   \n",
       "3  id10329  Stayed here with husband and sons on the way t...   \n",
       "4  id10330  My girlfriends and I stayed here to celebrate ...   \n",
       "\n",
       "        Browser_Used Device_Used Is_Response  \n",
       "0               Edge      Mobile   not happy  \n",
       "1  Internet Explorer      Mobile   not happy  \n",
       "2            Mozilla      Tablet   not happy  \n",
       "3   InternetExplorer     Desktop       happy  \n",
       "4               Edge      Tablet   not happy  "
      ]
     },
     "execution_count": 3,
     "metadata": {},
     "output_type": "execute_result"
    }
   ],
   "source": [
    "df.head()"
   ]
  },
  {
   "cell_type": "code",
   "execution_count": 4,
   "id": "16d4421c",
   "metadata": {},
   "outputs": [
    {
     "data": {
      "text/plain": [
       "(38932, 5)"
      ]
     },
     "execution_count": 4,
     "metadata": {},
     "output_type": "execute_result"
    }
   ],
   "source": [
    "df.shape"
   ]
  },
  {
   "cell_type": "code",
   "execution_count": 5,
   "id": "0aa6287e",
   "metadata": {},
   "outputs": [
    {
     "name": "stdout",
     "output_type": "stream",
     "text": [
      "<class 'pandas.core.frame.DataFrame'>\n",
      "RangeIndex: 38932 entries, 0 to 38931\n",
      "Data columns (total 5 columns):\n",
      " #   Column        Non-Null Count  Dtype \n",
      "---  ------        --------------  ----- \n",
      " 0   User_ID       38932 non-null  object\n",
      " 1   Description   38932 non-null  object\n",
      " 2   Browser_Used  38932 non-null  object\n",
      " 3   Device_Used   38932 non-null  object\n",
      " 4   Is_Response   38932 non-null  object\n",
      "dtypes: object(5)\n",
      "memory usage: 1.5+ MB\n"
     ]
    }
   ],
   "source": [
    "df.info()"
   ]
  },
  {
   "cell_type": "code",
   "execution_count": 6,
   "id": "9c3e8480",
   "metadata": {},
   "outputs": [
    {
     "data": {
      "text/plain": [
       "<AxesSubplot:>"
      ]
     },
     "execution_count": 6,
     "metadata": {},
     "output_type": "execute_result"
    },
    {
     "data": {
      "image/png": "[encoded data removed]",
      "text/plain": [
       "<Figure size 640x480 with 1 Axes>"
      ]
     },
     "metadata": {},
     "output_type": "display_data"
    }
   ],
   "source": [
    "df['Is_Response'].value_counts().plot(kind='bar',color=['green','red'])"
   ]
  },
  {
   "cell_type": "code",
   "execution_count": 7,
   "id": "e4af81d5",
   "metadata": {},
   "outputs": [
    {
     "data": {
      "text/plain": [
       "happy        26521\n",
       "not happy    12411\n",
       "Name: Is_Response, dtype: int64"
      ]
     },
     "execution_count": 7,
     "metadata": {},
     "output_type": "execute_result"
    }
   ],
   "source": [
    "df['Is_Response'].value_counts()"
   ]
  },
  {
   "cell_type": "code",
   "execution_count": 24,
   "id": "8a551f8e",
   "metadata": {},
   "outputs": [],
   "source": [
    "df.drop(columns=['Browser_Used','Device_Used','User_ID'],inplace=True)"
   ]
  },
  {
   "cell_type": "code",
   "execution_count": 25,
   "id": "cb0ac6aa",
   "metadata": {},
   "outputs": [
    {
     "data": {
      "text/html": [
       "<div>\n",
       "<style scoped>\n",
       "    .dataframe tbody tr th:only-of-type {\n",
       "        vertical-align: middle;\n",
       "    }\n",
       "\n",
       "    .dataframe tbody tr th {\n",
       "        vertical-align: top;\n",
       "    }\n",
       "\n",
       "    .dataframe thead th {\n",
       "        text-align: right;\n",
       "    }\n",
       "</style>\n",
       "<table border=\"1\" class=\"dataframe\">\n",
       "  <thead>\n",
       "    <tr style=\"text-align: right;\">\n",
       "      <th></th>\n",
       "      <th>Description</th>\n",
       "      <th>Is_Response</th>\n",
       "    </tr>\n",
       "  </thead>\n",
       "  <tbody>\n",
       "    <tr>\n",
       "      <th>0</th>\n",
       "      <td>The room was kind of clean but had a VERY stro...</td>\n",
       "      <td>not happy</td>\n",
       "    </tr>\n",
       "    <tr>\n",
       "      <th>1</th>\n",
       "      <td>I stayed at the Crown Plaza April -- - April -...</td>\n",
       "      <td>not happy</td>\n",
       "    </tr>\n",
       "    <tr>\n",
       "      <th>2</th>\n",
       "      <td>I booked this hotel through Hotwire at the low...</td>\n",
       "      <td>not happy</td>\n",
       "    </tr>\n",
       "    <tr>\n",
       "      <th>3</th>\n",
       "      <td>Stayed here with husband and sons on the way t...</td>\n",
       "      <td>happy</td>\n",
       "    </tr>\n",
       "    <tr>\n",
       "      <th>4</th>\n",
       "      <td>My girlfriends and I stayed here to celebrate ...</td>\n",
       "      <td>not happy</td>\n",
       "    </tr>\n",
       "  </tbody>\n",
       "</table>\n",
       "</div>"
      ],
      "text/plain": [
       "                                         Description Is_Response\n",
       "0  The room was kind of clean but had a VERY stro...   not happy\n",
       "1  I stayed at the Crown Plaza April -- - April -...   not happy\n",
       "2  I booked this hotel through Hotwire at the low...   not happy\n",
       "3  Stayed here with husband and sons on the way t...       happy\n",
       "4  My girlfriends and I stayed here to celebrate ...   not happy"
      ]
     },
     "execution_count": 25,
     "metadata": {},
     "output_type": "execute_result"
    }
   ],
   "source": [
    "df.head()"
   ]
  },
  {
   "cell_type": "code",
   "execution_count": 26,
   "id": "b22adaab",
   "metadata": {},
   "outputs": [],
   "source": [
    "df['Is_Response']=df['Is_Response'].replace({'not happy':0,'happy':1})"
   ]
  },
  {
   "cell_type": "code",
   "execution_count": 27,
   "id": "dc5b69e4",
   "metadata": {},
   "outputs": [
    {
     "data": {
      "text/html": [
       "<div>\n",
       "<style scoped>\n",
       "    .dataframe tbody tr th:only-of-type {\n",
       "        vertical-align: middle;\n",
       "    }\n",
       "\n",
       "    .dataframe tbody tr th {\n",
       "        vertical-align: top;\n",
       "    }\n",
       "\n",
       "    .dataframe thead th {\n",
       "        text-align: right;\n",
       "    }\n",
       "</style>\n",
       "<table border=\"1\" class=\"dataframe\">\n",
       "  <thead>\n",
       "    <tr style=\"text-align: right;\">\n",
       "      <th></th>\n",
       "      <th>Description</th>\n",
       "      <th>Is_Response</th>\n",
       "    </tr>\n",
       "  </thead>\n",
       "  <tbody>\n",
       "    <tr>\n",
       "      <th>0</th>\n",
       "      <td>The room was kind of clean but had a VERY stro...</td>\n",
       "      <td>0</td>\n",
       "    </tr>\n",
       "    <tr>\n",
       "      <th>1</th>\n",
       "      <td>I stayed at the Crown Plaza April -- - April -...</td>\n",
       "      <td>0</td>\n",
       "    </tr>\n",
       "    <tr>\n",
       "      <th>2</th>\n",
       "      <td>I booked this hotel through Hotwire at the low...</td>\n",
       "      <td>0</td>\n",
       "    </tr>\n",
       "    <tr>\n",
       "      <th>3</th>\n",
       "      <td>Stayed here with husband and sons on the way t...</td>\n",
       "      <td>1</td>\n",
       "    </tr>\n",
       "    <tr>\n",
       "      <th>4</th>\n",
       "      <td>My girlfriends and I stayed here to celebrate ...</td>\n",
       "      <td>0</td>\n",
       "    </tr>\n",
       "  </tbody>\n",
       "</table>\n",
       "</div>"
      ],
      "text/plain": [
       "                                         Description  Is_Response\n",
       "0  The room was kind of clean but had a VERY stro...            0\n",
       "1  I stayed at the Crown Plaza April -- - April -...            0\n",
       "2  I booked this hotel through Hotwire at the low...            0\n",
       "3  Stayed here with husband and sons on the way t...            1\n",
       "4  My girlfriends and I stayed here to celebrate ...            0"
      ]
     },
     "execution_count": 27,
     "metadata": {},
     "output_type": "execute_result"
    }
   ],
   "source": [
    "df.head()"
   ]
  },
  {
   "cell_type": "code",
   "execution_count": 31,
   "id": "328e7892",
   "metadata": {},
   "outputs": [],
   "source": [
    "from nltk.corpus import stopwords\n",
    "from nltk.stem import WordNetLemmatizer\n",
    " \n",
    "lemmatizer = WordNetLemmatizer()\n",
    "\n",
    "from nltk.stem.porter import PorterStemmer\n",
    "\n",
    "ps = PorterStemmer()\n",
    "\n",
    "import re"
   ]
  },
  {
   "cell_type": "code",
   "execution_count": null,
   "id": "66ebc6f8",
   "metadata": {},
   "outputs": [],
   "source": []
  },
  {
   "cell_type": "code",
   "execution_count": 29,
   "id": "17ce650d",
   "metadata": {},
   "outputs": [],
   "source": [
    "df['Description']=df['Description'].str.lower()"
   ]
  },
  {
   "cell_type": "code",
   "execution_count": 30,
   "id": "dfbfb933",
   "metadata": {},
   "outputs": [],
   "source": [
    "df['Description']=df['Description'].apply(lambda x:re.sub('[^a-zA-Z]',' ',x))"
   ]
  },
  {
   "cell_type": "code",
   "execution_count": 32,
   "id": "f7746e26",
   "metadata": {},
   "outputs": [],
   "source": [
    "def remove_stopwords(text):\n",
    "    text = text.split()\n",
    "\n",
    "    text = [ps.stem(word) for word in text if not word in stopwords.words('english')]\n",
    "\n",
    "    text = ' '.join(text)\n",
    "    \n",
    "    return text"
   ]
  },
  {
   "cell_type": "code",
   "execution_count": 33,
   "id": "835794ad",
   "metadata": {},
   "outputs": [],
   "source": [
    "df['Description']=df['Description'].apply(remove_stopwords)"
   ]
  },
  {
   "cell_type": "code",
   "execution_count": 34,
   "id": "0922d0bb",
   "metadata": {},
   "outputs": [
    {
     "data": {
      "text/html": [
       "<div>\n",
       "<style scoped>\n",
       "    .dataframe tbody tr th:only-of-type {\n",
       "        vertical-align: middle;\n",
       "    }\n",
       "\n",
       "    .dataframe tbody tr th {\n",
       "        vertical-align: top;\n",
       "    }\n",
       "\n",
       "    .dataframe thead th {\n",
       "        text-align: right;\n",
       "    }\n",
       "</style>\n",
       "<table border=\"1\" class=\"dataframe\">\n",
       "  <thead>\n",
       "    <tr style=\"text-align: right;\">\n",
       "      <th></th>\n",
       "      <th>Description</th>\n",
       "      <th>Is_Response</th>\n",
       "    </tr>\n",
       "  </thead>\n",
       "  <tbody>\n",
       "    <tr>\n",
       "      <th>0</th>\n",
       "      <td>room kind clean strong smell dog gener averag ...</td>\n",
       "      <td>0</td>\n",
       "    </tr>\n",
       "    <tr>\n",
       "      <th>1</th>\n",
       "      <td>stay crown plaza april april staff friendli at...</td>\n",
       "      <td>0</td>\n",
       "    </tr>\n",
       "    <tr>\n",
       "      <th>2</th>\n",
       "      <td>book hotel hotwir lowest price could find got ...</td>\n",
       "      <td>0</td>\n",
       "    </tr>\n",
       "    <tr>\n",
       "      <th>3</th>\n",
       "      <td>stay husband son way alaska cruis love hotel g...</td>\n",
       "      <td>1</td>\n",
       "    </tr>\n",
       "    <tr>\n",
       "      <th>4</th>\n",
       "      <td>girlfriend stay celebr th birthday plan weeken...</td>\n",
       "      <td>0</td>\n",
       "    </tr>\n",
       "  </tbody>\n",
       "</table>\n",
       "</div>"
      ],
      "text/plain": [
       "                                         Description  Is_Response\n",
       "0  room kind clean strong smell dog gener averag ...            0\n",
       "1  stay crown plaza april april staff friendli at...            0\n",
       "2  book hotel hotwir lowest price could find got ...            0\n",
       "3  stay husband son way alaska cruis love hotel g...            1\n",
       "4  girlfriend stay celebr th birthday plan weeken...            0"
      ]
     },
     "execution_count": 34,
     "metadata": {},
     "output_type": "execute_result"
    }
   ],
   "source": [
    "df.head()"
   ]
  },
  {
   "cell_type": "code",
   "execution_count": 35,
   "id": "a230859b",
   "metadata": {},
   "outputs": [],
   "source": [
    "X=df['Description']\n",
    "y=df['Is_Response']"
   ]
  },
  {
   "cell_type": "code",
   "execution_count": 36,
   "id": "49e6d0f3",
   "metadata": {},
   "outputs": [
    {
     "data": {
      "text/plain": [
       "0        room kind clean strong smell dog gener averag ...\n",
       "1        stay crown plaza april april staff friendli at...\n",
       "2        book hotel hotwir lowest price could find got ...\n",
       "3        stay husband son way alaska cruis love hotel g...\n",
       "4        girlfriend stay celebr th birthday plan weeken...\n",
       "                               ...                        \n",
       "38927    arriv late night walk check area complet flood...\n",
       "38928    posit impress locat public park opposit site s...\n",
       "38929    travel friend shop show locat great best say r...\n",
       "38930    experi ok paid extra view pool got view palm t...\n",
       "38931    westin wonder restor grand dame hotel bed line...\n",
       "Name: Description, Length: 38932, dtype: object"
      ]
     },
     "execution_count": 36,
     "metadata": {},
     "output_type": "execute_result"
    }
   ],
   "source": [
    "X"
   ]
  },
  {
   "cell_type": "code",
   "execution_count": 37,
   "id": "2208bbe2",
   "metadata": {},
   "outputs": [],
   "source": [
    "from sklearn.feature_extraction.text import TfidfVectorizer\n",
    "\n",
    "tfidf=TfidfVectorizer(max_features=10000,ngram_range=(1,3))\n",
    "\n",
    "tfidf_word=tfidf.fit_transform(X).toarray()"
   ]
  },
  {
   "cell_type": "code",
   "execution_count": 39,
   "id": "14ad7567",
   "metadata": {},
   "outputs": [
    {
     "data": {
      "text/plain": [
       "array([[0., 0., 0., ..., 0., 0., 0.],\n",
       "       [0., 0., 0., ..., 0., 0., 0.],\n",
       "       [0., 0., 0., ..., 0., 0., 0.],\n",
       "       ...,\n",
       "       [0., 0., 0., ..., 0., 0., 0.],\n",
       "       [0., 0., 0., ..., 0., 0., 0.],\n",
       "       [0., 0., 0., ..., 0., 0., 0.]])"
      ]
     },
     "execution_count": 39,
     "metadata": {},
     "output_type": "execute_result"
    }
   ],
   "source": [
    "tfidf_word"
   ]
  },
  {
   "cell_type": "code",
   "execution_count": 40,
   "id": "4b687be5",
   "metadata": {},
   "outputs": [
    {
     "data": {
      "text/plain": [
       "(38932,)"
      ]
     },
     "execution_count": 40,
     "metadata": {},
     "output_type": "execute_result"
    }
   ],
   "source": [
    "y.shape"
   ]
  },
  {
   "cell_type": "code",
   "execution_count": 41,
   "id": "7ae4cd6f",
   "metadata": {},
   "outputs": [
    {
     "data": {
      "text/plain": [
       "(38932, 10000)"
      ]
     },
     "execution_count": 41,
     "metadata": {},
     "output_type": "execute_result"
    }
   ],
   "source": [
    "tfidf_word.shape"
   ]
  },
  {
   "cell_type": "code",
   "execution_count": 42,
   "id": "3b01ec84",
   "metadata": {},
   "outputs": [],
   "source": [
    "from sklearn.model_selection import train_test_split\n",
    "\n",
    "X_train,X_test,y_train,y_test=train_test_split(tfidf_word,y,test_size=0.3,random_state=42)"
   ]
  },
  {
   "cell_type": "code",
   "execution_count": 43,
   "id": "66f2131e",
   "metadata": {},
   "outputs": [],
   "source": [
    "from sklearn.metrics import accuracy_score,classification_report"
   ]
  },
  {
   "cell_type": "code",
   "execution_count": 44,
   "id": "1e8f8512",
   "metadata": {},
   "outputs": [
    {
     "name": "stdout",
     "output_type": "stream",
     "text": [
      "Accuracy :  0.8657534246575342\n",
      "Classification report :                precision    recall  f1-score   support\n",
      "\n",
      "           0       0.85      0.70      0.77      3693\n",
      "           1       0.87      0.94      0.91      7987\n",
      "\n",
      "    accuracy                           0.87     11680\n",
      "   macro avg       0.86      0.82      0.84     11680\n",
      "weighted avg       0.86      0.87      0.86     11680\n",
      "\n"
     ]
    }
   ],
   "source": [
    "from sklearn.naive_bayes import MultinomialNB\n",
    "\n",
    "mnb=MultinomialNB()\n",
    "\n",
    "mnb.fit(X_train,y_train)\n",
    "\n",
    "y_pred=mnb.predict(X_test)\n",
    "\n",
    "print(\"Accuracy : \",accuracy_score(y_test,y_pred))\n",
    "print(\"Classification report : \",classification_report(y_test,y_pred))"
   ]
  },
  {
   "cell_type": "code",
   "execution_count": 62,
   "id": "5eb6d123",
   "metadata": {},
   "outputs": [
    {
     "name": "stdout",
     "output_type": "stream",
     "text": [
      "Accuracy :  0.8389554794520548\n",
      "Classification report :                precision    recall  f1-score   support\n",
      "\n",
      "           0       0.76      0.71      0.74      3693\n",
      "           1       0.87      0.90      0.88      7987\n",
      "\n",
      "    accuracy                           0.84     11680\n",
      "   macro avg       0.82      0.81      0.81     11680\n",
      "weighted avg       0.84      0.84      0.84     11680\n",
      "\n",
      "Accuracy :  0.8657534246575342\n",
      "Classification report :                precision    recall  f1-score   support\n",
      "\n",
      "           0       0.85      0.70      0.77      3693\n",
      "           1       0.87      0.94      0.91      7987\n",
      "\n",
      "    accuracy                           0.87     11680\n",
      "   macro avg       0.86      0.82      0.84     11680\n",
      "weighted avg       0.86      0.87      0.86     11680\n",
      "\n"
     ]
    }
   ],
   "source": [
    "from sklearn.naive_bayes import BernoulliNB\n",
    "\n",
    "bnb=BernoulliNB()\n",
    "\n",
    "bnb.fit(X_train,y_train)\n",
    "\n",
    "y_pred=bnb.predict(X_test)\n",
    "\n",
    "print(\"Accuracy : \",accuracy_score(y_test,y_pred))\n",
    "print(\"Classification report : \",classification_report(y_test,y_pred))\n",
    "\n",
    "mnb=MultinomialNB()\n",
    "\n",
    "mnb.fit(X_train,y_train)\n",
    "\n",
    "y_pred=mnb.predict(X_test)\n",
    "\n",
    "print(\"Accuracy : \",accuracy_score(y_test,y_pred))\n",
    "print(\"Classification report : \",classification_report(y_test,y_pred))"
   ]
  },
  {
   "cell_type": "code",
   "execution_count": 65,
   "id": "122985e2",
   "metadata": {},
   "outputs": [
    {
     "name": "stdout",
     "output_type": "stream",
     "text": [
      "Accuracy :  0.8476027397260274\n",
      "Classification report :                precision    recall  f1-score   support\n",
      "\n",
      "           0       0.89      0.59      0.71      3693\n",
      "           1       0.84      0.97      0.90      7987\n",
      "\n",
      "    accuracy                           0.85     11680\n",
      "   macro avg       0.86      0.78      0.80     11680\n",
      "weighted avg       0.85      0.85      0.84     11680\n",
      "\n"
     ]
    }
   ],
   "source": [
    "from sklearn.ensemble import RandomForestClassifier\n",
    "\n",
    "rcf=RandomForestClassifier(n_estimators=150,criterion='entropy')\n",
    "\n",
    "rcf.fit(X_train,y_train)\n",
    "\n",
    "y_pred=rcf.predict(X_test)\n",
    "\n",
    "print(\"Accuracy : \",accuracy_score(y_test,y_pred))\n",
    "print(\"Classification report : \",classification_report(y_test,y_pred))"
   ]
  },
  {
   "cell_type": "markdown",
   "id": "0696005b",
   "metadata": {},
   "source": [
    "# MultinomialNB have a good accuracy in both positive and negetive data and give accurate prediction"
   ]
  },
  {
   "cell_type": "code",
   "execution_count": 75,
   "id": "58c0335e",
   "metadata": {},
   "outputs": [
    {
     "name": "stdout",
     "output_type": "stream",
     "text": [
      "The review is Positive\n"
     ]
    }
   ],
   "source": [
    "text=\" Great location, really pleasant and clean rooms, but the thing that makes this such a good place to stay are the staff. All of the people are incredibly helpful and generous with their time and advice. We travelled with two six year olds and lots of luggage and despite the stairs up to the elevator this was one of the nicest places we stayed in the four weeks we were in Europe.\"\n",
    "\n",
    "text1=\"Everything ! The place is horrendous and disgusting… I’m surprised they even have a business .. nothing seems up to code for 95$. There was blood on the sheets!\"\n",
    "\n",
    "text=tfidf.transform([text]).toarray()\n",
    "\n",
    "test1=mnb.predict(text)\n",
    "\n",
    "if test1==0:\n",
    "    print(\"The review is negetive\")\n",
    "    \n",
    "else:\n",
    "    print(\"The review is Positive\")"
   ]
  },
  {
   "cell_type": "code",
   "execution_count": null,
   "id": "93f182c2",
   "metadata": {},
   "outputs": [],
   "source": []
  },
  {
   "cell_type": "code",
   "execution_count": null,
   "id": "b0f92988",
   "metadata": {},
   "outputs": [],
   "source": []
  }
 ],
 "metadata": {
  "kernelspec": {
   "display_name": "Python 3 (ipykernel)",
   "language": "python",
   "name": "python3"
  },
  "language_info": {
   "codemirror_mode": {
    "name": "ipython",
    "version": 3
   },
   "file_extension": ".py",
   "mimetype": "text/x-python",
   "name": "python",
   "nbconvert_exporter": "python",
   "pygments_lexer": "ipython3",
   "version": "3.10.5"
  }
 },
 "nbformat": 4,
 "nbformat_minor": 5
}
